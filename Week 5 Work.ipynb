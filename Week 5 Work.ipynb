{
 "cells": [
  {
   "cell_type": "markdown",
   "id": "2ae16ff4",
   "metadata": {},
   "source": [
    "# Week 5 Work \n",
    "Algorithm Workbench"
   ]
  },
  {
   "cell_type": "markdown",
   "id": "9e2880d4",
   "metadata": {},
   "source": [
    "Question 1"
   ]
  },
  {
   "cell_type": "markdown",
   "id": "ce012e3b",
   "metadata": {},
   "source": [
    "\"Write a function named 'times_ten\" The function should accept an argument and display the product of its argument multiplied times 10.\""
   ]
  },
  {
   "cell_type": "code",
   "execution_count": 2,
   "id": "8556e272",
   "metadata": {},
   "outputs": [
    {
     "ename": "SyntaxError",
     "evalue": "invalid syntax (319449733.py, line 1)",
     "output_type": "error",
     "traceback": [
      "\u001b[1;36m  Cell \u001b[1;32mIn[2], line 1\u001b[1;36m\u001b[0m\n\u001b[1;33m    def times_ten(number:)\u001b[0m\n\u001b[1;37m                         ^\u001b[0m\n\u001b[1;31mSyntaxError\u001b[0m\u001b[1;31m:\u001b[0m invalid syntax\n"
     ]
    }
   ],
   "source": [
    "def times_ten(number:)\n",
    "product=number*10\n",
    "print(product)"
   ]
  },
  {
   "cell_type": "markdown",
   "id": "faebed82",
   "metadata": {},
   "source": [
    "Made an small error, going to leave this in."
   ]
  },
  {
   "cell_type": "code",
   "execution_count": 12,
   "id": "40f3c479",
   "metadata": {},
   "outputs": [
    {
     "ename": "NameError",
     "evalue": "name 'number' is not defined",
     "output_type": "error",
     "traceback": [
      "\u001b[1;31m---------------------------------------------------------------------------\u001b[0m",
      "\u001b[1;31mNameError\u001b[0m                                 Traceback (most recent call last)",
      "Cell \u001b[1;32mIn[12], line 3\u001b[0m\n\u001b[0;32m      1\u001b[0m \u001b[38;5;28;01mdef\u001b[39;00m \u001b[38;5;21mtimes_ten\u001b[39m(number):\n\u001b[0;32m      2\u001b[0m     product\u001b[38;5;241m=\u001b[39mnumber\u001b[38;5;241m*\u001b[39m\u001b[38;5;241m10\u001b[39m\n\u001b[1;32m----> 3\u001b[0m product\u001b[38;5;241m=\u001b[39mtimes_ten(number)\n\u001b[0;32m      4\u001b[0m \u001b[38;5;28mprint\u001b[39m(product)\n",
      "\u001b[1;31mNameError\u001b[0m: name 'number' is not defined"
     ]
    }
   ],
   "source": [
    "def times_ten(number):\n",
    "    product=number*10\n",
    "print(product)"
   ]
  },
  {
   "cell_type": "markdown",
   "id": "1aad0388",
   "metadata": {},
   "source": [
    "I was having the same issue on Week 4 work, but I didn't understand what needed to be defined. My code will work once I find a defintion for \"product\""
   ]
  },
  {
   "cell_type": "code",
   "execution_count": 21,
   "id": "41349fdf",
   "metadata": {},
   "outputs": [
    {
     "data": {
      "text/plain": [
       "50"
      ]
     },
     "execution_count": 21,
     "metadata": {},
     "output_type": "execute_result"
    }
   ],
   "source": [
    "def times_ten(number):\n",
    "    product = number * 10\n",
    "    return product\n",
    "(times_ten(5))\n"
   ]
  },
  {
   "cell_type": "markdown",
   "id": "5230ce5c",
   "metadata": {},
   "source": [
    "I had to look up some extra steps, but eventually I figured out what I was missing!"
   ]
  },
  {
   "cell_type": "markdown",
   "id": "3a382fcf",
   "metadata": {},
   "source": [
    "Question 6"
   ]
  },
  {
   "cell_type": "markdown",
   "id": "f70ed140",
   "metadata": {},
   "source": [
    "\"Write a statement that generates a random number in the range of 1 through 100 and assigns it to a variable named 'rand'\""
   ]
  },
  {
   "cell_type": "code",
   "execution_count": 26,
   "id": "9ce4cb1f",
   "metadata": {},
   "outputs": [
    {
     "name": "stdout",
     "output_type": "stream",
     "text": [
      "53\n"
     ]
    }
   ],
   "source": [
    "import random\n",
    "rand = random.randint(1, 100)\n",
    "print(rand)"
   ]
  },
  {
   "cell_type": "markdown",
   "id": "27f6b2a6",
   "metadata": {},
   "source": [
    "Took me a second to figure out the \"rand\" variable, but this question proved to be easier than the last!"
   ]
  },
  {
   "cell_type": "markdown",
   "id": "1113b7f6",
   "metadata": {},
   "source": [
    "# Programming Exercises\n"
   ]
  },
  {
   "cell_type": "markdown",
   "id": "95ad5c53",
   "metadata": {},
   "source": [
    "Question 1"
   ]
  },
  {
   "cell_type": "markdown",
   "id": "dca14361",
   "metadata": {},
   "source": [
    "\"Write a program that asks the user to enter a distance in kilometers, then uses a function to convert that distance to miles. The conversion formula is as follows:\n",
    "\n",
    "Miles = Kilometers x 0.6214\""
   ]
  },
  {
   "cell_type": "code",
   "execution_count": 28,
   "id": "4692c820",
   "metadata": {},
   "outputs": [
    {
     "ename": "IndentationError",
     "evalue": "expected an indented block after function definition on line 1 (211928934.py, line 2)",
     "output_type": "error",
     "traceback": [
      "\u001b[1;36m  Cell \u001b[1;32mIn[28], line 2\u001b[1;36m\u001b[0m\n\u001b[1;33m    conversion_factor = 0.621371\u001b[0m\n\u001b[1;37m    ^\u001b[0m\n\u001b[1;31mIndentationError\u001b[0m\u001b[1;31m:\u001b[0m expected an indented block after function definition on line 1\n"
     ]
    }
   ],
   "source": [
    "def km_to_miles(km):\n",
    "conversion_factor = 0.621371\n",
    "miles = km * conversion_factor\n",
    "return miles"
   ]
  },
  {
   "cell_type": "markdown",
   "id": "c76e1b46",
   "metadata": {},
   "source": [
    "Small error!"
   ]
  },
  {
   "cell_type": "code",
   "execution_count": 29,
   "id": "a8383b67",
   "metadata": {},
   "outputs": [
    {
     "ename": "NameError",
     "evalue": "name 'km' is not defined",
     "output_type": "error",
     "traceback": [
      "\u001b[1;31m---------------------------------------------------------------------------\u001b[0m",
      "\u001b[1;31mNameError\u001b[0m                                 Traceback (most recent call last)",
      "Cell \u001b[1;32mIn[29], line 3\u001b[0m\n\u001b[0;32m      1\u001b[0m \u001b[38;5;28;01mdef\u001b[39;00m \u001b[38;5;21mkm_to_miles\u001b[39m(km):\n\u001b[0;32m      2\u001b[0m     conversion_factor \u001b[38;5;241m=\u001b[39m \u001b[38;5;241m0.621371\u001b[39m\n\u001b[1;32m----> 3\u001b[0m miles \u001b[38;5;241m=\u001b[39m km \u001b[38;5;241m*\u001b[39m conversion_factor\n\u001b[0;32m      4\u001b[0m \u001b[38;5;28;01mreturn\u001b[39;00m miles\n",
      "\u001b[1;31mNameError\u001b[0m: name 'km' is not defined"
     ]
    }
   ],
   "source": [
    "def km_to_miles(km):\n",
    "    conversion_factor = 0.621371\n",
    "miles = km * conversion_factor\n",
    "return miles"
   ]
  },
  {
   "cell_type": "markdown",
   "id": "9f52cc6c",
   "metadata": {},
   "source": [
    "Thought I was doing well, realized I forgot to define 'km.'"
   ]
  },
  {
   "cell_type": "code",
   "execution_count": 30,
   "id": "3dcf39c0",
   "metadata": {},
   "outputs": [
    {
     "ename": "NameError",
     "evalue": "name 'km' is not defined",
     "output_type": "error",
     "traceback": [
      "\u001b[1;31m---------------------------------------------------------------------------\u001b[0m",
      "\u001b[1;31mNameError\u001b[0m                                 Traceback (most recent call last)",
      "Cell \u001b[1;32mIn[30], line 3\u001b[0m\n\u001b[0;32m      1\u001b[0m \u001b[38;5;28;01mdef\u001b[39;00m \u001b[38;5;21mkm_to_miles\u001b[39m(km):\n\u001b[0;32m      2\u001b[0m     conversion_factor \u001b[38;5;241m=\u001b[39m \u001b[38;5;241m0.621371\u001b[39m\n\u001b[1;32m----> 3\u001b[0m miles \u001b[38;5;241m=\u001b[39m km \u001b[38;5;241m*\u001b[39m conversion_factor\n\u001b[0;32m      4\u001b[0m \u001b[38;5;28;01mreturn\u001b[39;00m miles\n\u001b[0;32m      6\u001b[0m \u001b[38;5;28;01mdef\u001b[39;00m \u001b[38;5;21mmain\u001b[39m():\n",
      "\u001b[1;31mNameError\u001b[0m: name 'km' is not defined"
     ]
    }
   ],
   "source": [
    "def km_to_miles(km):\n",
    "    conversion_factor = 0.621371\n",
    "miles = km * conversion_factor\n",
    "return miles\n",
    "\n",
    "def main():\n",
    "    km = float(input(\"Enter distance in kilometers: \"))\n",
    "miles = km_to_miles(km)\n",
    "print(\"Distance in miles:\", miles)"
   ]
  },
  {
   "cell_type": "markdown",
   "id": "ba1e8a8a",
   "metadata": {},
   "source": [
    "I am still unable to correctly define \"km.\""
   ]
  },
  {
   "cell_type": "code",
   "execution_count": 59,
   "id": "6ca6aec4",
   "metadata": {},
   "outputs": [
    {
     "name": "stdout",
     "output_type": "stream",
     "text": [
      "Enter distance in kilometers: 25\n",
      "Distance in miles: 15.534275000000001\n"
     ]
    }
   ],
   "source": [
    "def km_to_miles(km):\n",
    "    conversion_factor = 0.621371\n",
    "    miles = km * conversion_factor\n",
    "    return miles\n",
    "\n",
    "def main():\n",
    "    km = float(input(\"Enter distance in kilometers: \"))\n",
    "    miles = km_to_miles(km)\n",
    "    print(\"Distance in miles:\", miles)\n",
    "main()"
   ]
  },
  {
   "cell_type": "markdown",
   "id": "f405bf4c",
   "metadata": {},
   "source": [
    "I am struggling with this problem, but I just forgot the last function!"
   ]
  },
  {
   "cell_type": "markdown",
   "id": "e4dd7c9a",
   "metadata": {},
   "source": [
    "Question 16"
   ]
  },
  {
   "cell_type": "markdown",
   "id": "241b8d1a",
   "metadata": {},
   "source": [
    "\"Write a Boolean function named 'is_prime' which takes an integer as an argument and returns true if the argument is a prime number, or false otherwise. Use the function in a program that prompts the user to enter a number then displays a message indicating whether the number is prime.\""
   ]
  },
  {
   "cell_type": "code",
   "execution_count": 44,
   "id": "6814377f",
   "metadata": {},
   "outputs": [
    {
     "ename": "SyntaxError",
     "evalue": "expected ':' (4278783419.py, line 1)",
     "output_type": "error",
     "traceback": [
      "\u001b[1;36m  Cell \u001b[1;32mIn[44], line 1\u001b[1;36m\u001b[0m\n\u001b[1;33m    def is_prime(num)\u001b[0m\n\u001b[1;37m                     ^\u001b[0m\n\u001b[1;31mSyntaxError\u001b[0m\u001b[1;31m:\u001b[0m expected ':'\n"
     ]
    }
   ],
   "source": [
    "def is_prime(num)\n",
    "    if num < 1:\n",
    "    return False\n",
    "for i in range (2, int(num*0.5) + 1):\n",
    "    if num % = 0;\n",
    "    return False\n",
    "return True\n",
    "def(main):\n",
    "    num=int(input(\"Enter a number: \"))\n",
    "    if is_prime(num):\n",
    "        print(num, \"is a prime number.\")\n",
    "    else: \n",
    "        print(num, \"is not a prime number.\""
   ]
  },
  {
   "cell_type": "code",
   "execution_count": 45,
   "id": "80e97d27",
   "metadata": {},
   "outputs": [
    {
     "ename": "IndentationError",
     "evalue": "expected an indented block after 'if' statement on line 2 (1359913041.py, line 3)",
     "output_type": "error",
     "traceback": [
      "\u001b[1;36m  Cell \u001b[1;32mIn[45], line 3\u001b[1;36m\u001b[0m\n\u001b[1;33m    return False\u001b[0m\n\u001b[1;37m    ^\u001b[0m\n\u001b[1;31mIndentationError\u001b[0m\u001b[1;31m:\u001b[0m expected an indented block after 'if' statement on line 2\n"
     ]
    }
   ],
   "source": [
    "def is_prime(num):\n",
    "    if num < 1:\n",
    "    return False\n",
    "for i in range (2, int(num*0.5) + 1):\n",
    "    if num % = 0;\n",
    "    return False\n",
    "return True\n",
    "def(main):\n",
    "    num=int(input(\"Enter a number: \"))\n",
    "    if is_prime(num):\n",
    "        print(num, \"is a prime number.\")\n",
    "    else: \n",
    "        print(num, \"is not a prime number.\""
   ]
  },
  {
   "cell_type": "code",
   "execution_count": 57,
   "id": "39968fc1",
   "metadata": {},
   "outputs": [
    {
     "ename": "SyntaxError",
     "evalue": "'return' outside function (3527701257.py, line 6)",
     "output_type": "error",
     "traceback": [
      "\u001b[1;36m  Cell \u001b[1;32mIn[57], line 6\u001b[1;36m\u001b[0m\n\u001b[1;33m    return False\u001b[0m\n\u001b[1;37m    ^\u001b[0m\n\u001b[1;31mSyntaxError\u001b[0m\u001b[1;31m:\u001b[0m 'return' outside function\n"
     ]
    }
   ],
   "source": [
    "def is_prime(num):\n",
    "    if num < 1:\n",
    "        return False\n",
    "for i in range (2, int(num*0.5) + 1):\n",
    "    if num % i == 0:\n",
    "        return False\n",
    "    return True\n",
    "\n",
    "def main():\n",
    "    num=int(input(\"Enter a number: \"))\n",
    "    if is_prime(num):\n",
    "        print(num, \"is a prime number.\")\n",
    "    else: \n",
    "        print(num, \"is not a prime number.\")"
   ]
  },
  {
   "cell_type": "markdown",
   "id": "f41765aa",
   "metadata": {},
   "source": [
    "I am fixing little errors I have made, whether it be forgetting a colon or not indenting a line of code."
   ]
  },
  {
   "cell_type": "code",
   "execution_count": 58,
   "id": "f5be1271",
   "metadata": {},
   "outputs": [
    {
     "name": "stdout",
     "output_type": "stream",
     "text": [
      "Enter a number: 23\n",
      "23 is a prime number.\n"
     ]
    }
   ],
   "source": [
    "def is_prime(num):\n",
    "    if num <= 1:\n",
    "        return False\n",
    "    for i in range(2, int(num**0.5) + 1):\n",
    "        if num % i == 0:\n",
    "            return False\n",
    "    return True\n",
    "\n",
    "def main():\n",
    "    num = int(input(\"Enter a number: \"))\n",
    "    if is_prime(num):\n",
    "        print(num, \"is a prime number.\")\n",
    "    else:\n",
    "        print(num, \"is not a prime number.\")\n",
    "main()\n"
   ]
  },
  {
   "cell_type": "markdown",
   "id": "18a370c5",
   "metadata": {},
   "source": [
    "Question 17"
   ]
  },
  {
   "cell_type": "markdown",
   "id": "203cc8d5",
   "metadata": {},
   "source": [
    "\"This exercise assumes that you have already written the  function in Programming Exercise 16. Write another program that displays all of the prime numbers from 1 to 100. The program should have a loop that calls the  function.\""
   ]
  },
  {
   "cell_type": "code",
   "execution_count": 60,
   "id": "cf6ee3b6",
   "metadata": {},
   "outputs": [
    {
     "ename": "SyntaxError",
     "evalue": "'return' outside function (1193600619.py, line 6)",
     "output_type": "error",
     "traceback": [
      "\u001b[1;36m  Cell \u001b[1;32mIn[60], line 6\u001b[1;36m\u001b[0m\n\u001b[1;33m    return False\u001b[0m\n\u001b[1;37m    ^\u001b[0m\n\u001b[1;31mSyntaxError\u001b[0m\u001b[1;31m:\u001b[0m 'return' outside function\n"
     ]
    }
   ],
   "source": [
    "def is_prime(num):\n",
    "    if num < 1:\n",
    "        return False\n",
    "for i in range(2, int(num**0.5) + 1):\n",
    "    if num % i == 0:\n",
    "        return False\n",
    "    return True\n",
    "\n",
    "def display_primes():\n",
    "    print(\"Prime numbers from 1 to 100:\")\n",
    "    for num in range (1,101):\n",
    "        if is_prime(num):\n",
    "            print(num, end='')"
   ]
  },
  {
   "cell_type": "code",
   "execution_count": 61,
   "id": "e0cca0e0",
   "metadata": {},
   "outputs": [
    {
     "ename": "SyntaxError",
     "evalue": "'return' outside function (836468691.py, line 6)",
     "output_type": "error",
     "traceback": [
      "\u001b[1;36m  Cell \u001b[1;32mIn[61], line 6\u001b[1;36m\u001b[0m\n\u001b[1;33m    return False\u001b[0m\n\u001b[1;37m    ^\u001b[0m\n\u001b[1;31mSyntaxError\u001b[0m\u001b[1;31m:\u001b[0m 'return' outside function\n"
     ]
    }
   ],
   "source": [
    "def is_prime(num):\n",
    "    if num < 1:\n",
    "        return False\n",
    "for i in range(2, int(num**0.5) + 1):\n",
    "    if num % i == 0:\n",
    "        return False\n",
    "    return True\n",
    "\n",
    "def display_primes():\n",
    "    print(\"Prime numbers from 1 to 100:\")\n",
    "    for num in range (1,101):\n",
    "        if is_prime(num):\n",
    "            print(num, end=\"\")"
   ]
  },
  {
   "cell_type": "code",
   "execution_count": 66,
   "id": "8ac356cf",
   "metadata": {},
   "outputs": [
    {
     "ename": "SyntaxError",
     "evalue": "'return' outside function (3306861935.py, line 6)",
     "output_type": "error",
     "traceback": [
      "\u001b[1;36m  Cell \u001b[1;32mIn[66], line 6\u001b[1;36m\u001b[0m\n\u001b[1;33m    return False\u001b[0m\n\u001b[1;37m    ^\u001b[0m\n\u001b[1;31mSyntaxError\u001b[0m\u001b[1;31m:\u001b[0m 'return' outside function\n"
     ]
    }
   ],
   "source": [
    "def is_prime(num):\n",
    "    if num < 1:\n",
    "        return False\n",
    "for i in range(2, int(num**0.5) + 1):\n",
    "    if num % i == 0:\n",
    "        return False\n",
    "    return True\n",
    "\n",
    "def display_primes():\n",
    "    print(\"Prime numbers from 1 to 100:\")\n",
    "    for num in range (1,101):\n",
    "        if is_prime(num):\n",
    "            print(num, end='')\n",
    "display_primes()"
   ]
  },
  {
   "cell_type": "markdown",
   "id": "ce7692c1",
   "metadata": {},
   "source": [
    "Again, I am having an issue with \"return\" being outside of the function."
   ]
  },
  {
   "cell_type": "code",
   "execution_count": 71,
   "id": "45295986",
   "metadata": {},
   "outputs": [
    {
     "name": "stdout",
     "output_type": "stream",
     "text": [
      "Prime numbers from 1 to 100:\n",
      "2 3 5 7 11 13 17 19 23 29 31 37 41 43 47 53 59 61 67 71 73 79 83 89 97 "
     ]
    }
   ],
   "source": [
    "def is_prime(num):\n",
    "    if num <= 1:\n",
    "        return False\n",
    "    for i in range(2, int(num**0.5) + 1):\n",
    "        if num % i == 0:\n",
    "            return False\n",
    "    return True\n",
    "\n",
    "def display_primes():\n",
    "    print(\"Prime numbers from 1 to 100:\")\n",
    "    for num in range(1, 101):\n",
    "        if is_prime(num):\n",
    "            print(num, end=\" \")\n",
    "display_primes()\n"
   ]
  },
  {
   "cell_type": "markdown",
   "id": "a5245ed1",
   "metadata": {},
   "source": [
    "Question 18"
   ]
  },
  {
   "cell_type": "markdown",
   "id": "ef59ca22",
   "metadata": {},
   "source": [
    "\"...Write a program that prompts the user to enter the account’s present value, monthly interest rate, and the number of months that the money will be left in the account. The program should pass these values to a function that returns the future value of the account, after the specified number of months. The program should display the account’s future value.\""
   ]
  },
  {
   "cell_type": "code",
   "execution_count": 72,
   "id": "60b6874c",
   "metadata": {},
   "outputs": [
    {
     "ename": "IndentationError",
     "evalue": "expected an indented block after function definition on line 1 (997857345.py, line 2)",
     "output_type": "error",
     "traceback": [
      "\u001b[1;36m  Cell \u001b[1;32mIn[72], line 2\u001b[1;36m\u001b[0m\n\u001b[1;33m    future_value = present_value * ((1+ monthly_interest_rate) ** months)\u001b[0m\n\u001b[1;37m    ^\u001b[0m\n\u001b[1;31mIndentationError\u001b[0m\u001b[1;31m:\u001b[0m expected an indented block after function definition on line 1\n"
     ]
    }
   ],
   "source": [
    "def calculate_future_value(present_value, monthly_interest_rate, months):\n",
    "future_value = present_value * ((1+ monthly_interest_rate) ** months)\n",
    "return future_value\n",
    "\n",
    "def main():\n",
    "present_value = float(input(\"Enter the present value of the account: \"))\n",
    "monthly_interest_rate = float(input(\"Enter the monthly interest rate (in decimal): \"))\n",
    "months = int(input(\"Enter the bumber of months: \"))\n",
    "future_value = calculate_future_value(present_value, monthly_interest_rate, months)\n",
    "print(\"Future value of the account after\", months, \"months:\", future_value)\n",
    "main()"
   ]
  },
  {
   "cell_type": "code",
   "execution_count": 73,
   "id": "54ebb834",
   "metadata": {},
   "outputs": [
    {
     "name": "stdout",
     "output_type": "stream",
     "text": [
      "Enter the present value of the account: 23\n",
      "Enter the monthly interest rate (in decimal): 2\n",
      "Enter the number of months: 321\n",
      "Future value of the account after 321 months: 3.2934464092979986e+154\n"
     ]
    }
   ],
   "source": [
    "def calculate_future_value(present_value, monthly_interest_rate, months):\n",
    "    future_value = present_value * ((1 + monthly_interest_rate) ** months)\n",
    "    return future_value\n",
    "\n",
    "def main():\n",
    "    present_value = float(input(\"Enter the present value of the account: \"))\n",
    "    monthly_interest_rate = float(input(\"Enter the monthly interest rate (in decimal): \"))\n",
    "    months = int(input(\"Enter the number of months: \"))\n",
    "    future_value = calculate_future_value(present_value, monthly_interest_rate, months)\n",
    "    print(\"Future value of the account after\", months, \"months:\", future_value)\n",
    "\n",
    "\n",
    "main()\n"
   ]
  },
  {
   "cell_type": "markdown",
   "id": "9a49550d",
   "metadata": {},
   "source": [
    "Took my time with this one, but glad I had little errors!"
   ]
  },
  {
   "cell_type": "code",
   "execution_count": null,
   "id": "4363cd6b",
   "metadata": {},
   "outputs": [],
   "source": []
  }
 ],
 "metadata": {
  "kernelspec": {
   "display_name": "Python 3 (ipykernel)",
   "language": "python",
   "name": "python3"
  },
  "language_info": {
   "codemirror_mode": {
    "name": "ipython",
    "version": 3
   },
   "file_extension": ".py",
   "mimetype": "text/x-python",
   "name": "python",
   "nbconvert_exporter": "python",
   "pygments_lexer": "ipython3",
   "version": "3.11.5"
  }
 },
 "nbformat": 4,
 "nbformat_minor": 5
}
